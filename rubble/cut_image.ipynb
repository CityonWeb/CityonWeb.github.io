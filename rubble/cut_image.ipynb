{
 "cells": [
  {
   "cell_type": "code",
   "execution_count": 55,
   "metadata": {},
   "outputs": [],
   "source": [
    "baked_path = \"G:\\\\three-d-map230818\\\\public\\\\merf-qizhong\\\\data\\\\block_1\\\\baked\\\\baked\"\n",
    "out_path = \"G:\\\\three-d-map230818\\\\public\\\\merf-qizhong\\\\data\\\\block_1\\\\baked\\\\baked_cut\""
   ]
  },
  {
   "cell_type": "code",
   "execution_count": 75,
   "metadata": {},
   "outputs": [
    {
     "name": "stdout",
     "output_type": "stream",
     "text": [
      "[922, 3174]\n"
     ]
    },
    {
     "ename": "FileExistsError",
     "evalue": "[WinError 183] 当文件已存在时，无法创建该文件。: 'G:\\\\three-d-map230818\\\\public\\\\merf-qizhong\\\\data\\\\block_1\\\\baked\\\\baked_cut'",
     "output_type": "error",
     "traceback": [
      "\u001b[1;31m---------------------------------------------------------------------------\u001b[0m",
      "\u001b[1;31mFileExistsError\u001b[0m                           Traceback (most recent call last)",
      "Cell \u001b[1;32mIn[75], line 19\u001b[0m\n\u001b[0;32m     17\u001b[0m \u001b[39mprint\u001b[39m(xz_bound)\n\u001b[0;32m     18\u001b[0m y_bound \u001b[39m=\u001b[39m [\u001b[39m1480\u001b[39m,\u001b[39m2360\u001b[39m]\n\u001b[1;32m---> 19\u001b[0m shutil\u001b[39m.\u001b[39;49mcopytree(baked_path,out_path)\n",
      "File \u001b[1;32mf:\\Anaconda3\\envs\\nerfstudio\\lib\\shutil.py:557\u001b[0m, in \u001b[0;36mcopytree\u001b[1;34m(src, dst, symlinks, ignore, copy_function, ignore_dangling_symlinks, dirs_exist_ok)\u001b[0m\n\u001b[0;32m    555\u001b[0m \u001b[39mwith\u001b[39;00m os\u001b[39m.\u001b[39mscandir(src) \u001b[39mas\u001b[39;00m itr:\n\u001b[0;32m    556\u001b[0m     entries \u001b[39m=\u001b[39m \u001b[39mlist\u001b[39m(itr)\n\u001b[1;32m--> 557\u001b[0m \u001b[39mreturn\u001b[39;00m _copytree(entries\u001b[39m=\u001b[39;49mentries, src\u001b[39m=\u001b[39;49msrc, dst\u001b[39m=\u001b[39;49mdst, symlinks\u001b[39m=\u001b[39;49msymlinks,\n\u001b[0;32m    558\u001b[0m                  ignore\u001b[39m=\u001b[39;49mignore, copy_function\u001b[39m=\u001b[39;49mcopy_function,\n\u001b[0;32m    559\u001b[0m                  ignore_dangling_symlinks\u001b[39m=\u001b[39;49mignore_dangling_symlinks,\n\u001b[0;32m    560\u001b[0m                  dirs_exist_ok\u001b[39m=\u001b[39;49mdirs_exist_ok)\n",
      "File \u001b[1;32mf:\\Anaconda3\\envs\\nerfstudio\\lib\\shutil.py:458\u001b[0m, in \u001b[0;36m_copytree\u001b[1;34m(entries, src, dst, symlinks, ignore, copy_function, ignore_dangling_symlinks, dirs_exist_ok)\u001b[0m\n\u001b[0;32m    455\u001b[0m \u001b[39melse\u001b[39;00m:\n\u001b[0;32m    456\u001b[0m     ignored_names \u001b[39m=\u001b[39m \u001b[39mset\u001b[39m()\n\u001b[1;32m--> 458\u001b[0m os\u001b[39m.\u001b[39;49mmakedirs(dst, exist_ok\u001b[39m=\u001b[39;49mdirs_exist_ok)\n\u001b[0;32m    459\u001b[0m errors \u001b[39m=\u001b[39m []\n\u001b[0;32m    460\u001b[0m use_srcentry \u001b[39m=\u001b[39m copy_function \u001b[39mis\u001b[39;00m copy2 \u001b[39mor\u001b[39;00m copy_function \u001b[39mis\u001b[39;00m copy\n",
      "File \u001b[1;32mf:\\Anaconda3\\envs\\nerfstudio\\lib\\os.py:223\u001b[0m, in \u001b[0;36mmakedirs\u001b[1;34m(name, mode, exist_ok)\u001b[0m\n\u001b[0;32m    221\u001b[0m         \u001b[39mreturn\u001b[39;00m\n\u001b[0;32m    222\u001b[0m \u001b[39mtry\u001b[39;00m:\n\u001b[1;32m--> 223\u001b[0m     mkdir(name, mode)\n\u001b[0;32m    224\u001b[0m \u001b[39mexcept\u001b[39;00m \u001b[39mOSError\u001b[39;00m:\n\u001b[0;32m    225\u001b[0m     \u001b[39m# Cannot rely on checking for EEXIST, since the operating system\u001b[39;00m\n\u001b[0;32m    226\u001b[0m     \u001b[39m# could give priority to other errors like EACCES or EROFS\u001b[39;00m\n\u001b[0;32m    227\u001b[0m     \u001b[39mif\u001b[39;00m \u001b[39mnot\u001b[39;00m exist_ok \u001b[39mor\u001b[39;00m \u001b[39mnot\u001b[39;00m path\u001b[39m.\u001b[39misdir(name):\n",
      "\u001b[1;31mFileExistsError\u001b[0m: [WinError 183] 当文件已存在时，无法创建该文件。: 'G:\\\\three-d-map230818\\\\public\\\\merf-qizhong\\\\data\\\\block_1\\\\baked\\\\baked_cut'"
     ]
    }
   ],
   "source": [
    "import numpy as np\n",
    "from PIL import Image\n",
    "import shutil\n",
    "import json \n",
    "plane_res = 4096\n",
    "factor = 8\n",
    "block_id = 0\n",
    "if block_id == 0:\n",
    "    indicator_buond_xz = [[True,True],[True,False]] #x_min,y_min,x_max,y_max\n",
    "if block_id == 1:\n",
    "    indicator_buond_xz = [[True,True],[True,False]] #x_min,y_min,x_max,y_max\n",
    "if block_id == 2:\n",
    "    indicator_buond_xz = [[True,True],[True,False]] #x_min,y_min,x_max,y_max\n",
    "if block_id == 3:\n",
    "    indicator_buond_xz = [[True,True],[True,False]] #x_min,y_min,x_max,y_max\n",
    "xz_bound = [plane_res//4 - plane_res//40,plane_res*3//4 + plane_res//40]\n",
    "print(xz_bound)\n",
    "y_bound = [1480,2360]\n",
    "shutil.copytree(baked_path,out_path)\n",
    "\n"
   ]
  },
  {
   "cell_type": "code",
   "execution_count": 79,
   "metadata": {},
   "outputs": [
    {
     "name": "stdout",
     "output_type": "stream",
     "text": [
      "538 1490 3084 2636\n",
      "538 1490 3084 2636\n",
      "538 1011 3084 3439\n",
      "538 1011 3084 3439\n",
      "1490 1011 2636 3439\n",
      "1490 1011 2636 3439\n",
      "[[ 538 1490 1011]\n",
      " [3084 2636 3439]]\n",
      "[[1011 1480  922]\n",
      " [3174 2360 3439]]\n",
      "(4096, 4096, 4)\n",
      "(4096, 4096, 4)\n",
      "(4096, 4096, 4)\n",
      "(4096, 4096, 4)\n",
      "(4096, 4096, 4)\n",
      "(4096, 4096, 4)\n"
     ]
    }
   ],
   "source": [
    "plane = [\"\\\\plane_features_\",\"\\\\plane_rgb_and_density_\"]\n",
    "for i in range(3):\n",
    "    for name in plane:\n",
    "        image_path = baked_path  + name + str(i) + \".png\"\n",
    "        image = Image.open(image_path)\n",
    "        image_data = np.array(image)\n",
    "        non_zero_coords = np.argwhere(np.all(image_data != 0, axis=2))\n",
    "        x_min, y_min = non_zero_coords.min(axis=0)\n",
    "        x_max, y_max = non_zero_coords.max(axis=0)\n",
    "        print(x_min, y_min, x_max, y_max)\n",
    "        if name==\"\\\\plane_features_\":\n",
    "            if i == 0:\n",
    "                plane_bound_min = [x_min, y_min] \n",
    "                plane_bound_max = [x_max, y_max]\n",
    "            if i == 1:\n",
    "                plane_bound_min.append(y_min)\n",
    "                plane_bound_max.append(y_max)\n",
    "        # print(plane_bound_min)\n",
    "        # print(plane_bound_max)\n",
    "plane_bound = np.array([plane_bound_min, plane_bound_max])\n",
    "print(plane_bound)\n",
    "real_y_min = y_bound[0]\n",
    "real_y_max = y_bound[1]\n",
    "if indicator_buond_xz[0][0]:\n",
    "    real_x_min = max(plane_bound[0][2],xz_bound[0])\n",
    "else:\n",
    "    real_x_min = plane_bound[0][0]\n",
    "if indicator_buond_xz[0][1]:\n",
    "    real_z_min = max(plane_bound[0][0],xz_bound[0])\n",
    "else:\n",
    "    real_z_min = plane_bound[0][2]\n",
    "if indicator_buond_xz[1][0]:\n",
    "    real_x_max = min(plane_bound[1][2],xz_bound[1])\n",
    "else:\n",
    "    real_x_max = plane_bound[1][0]\n",
    "if indicator_buond_xz[1][1]:\n",
    "    real_z_max = min(plane_bound[1][0],xz_bound[1])\n",
    "else:\n",
    "    real_z_max = plane_bound[1][2]\n",
    "real_bound = np.array([[real_x_min,real_y_min,real_z_min],[real_x_max,real_y_max,real_z_max]])\n",
    "real_bound_float = real_bound.astype(np.float32)/4096 * 4 - 2.0\n",
    "print(real_bound)\n",
    "for i in range(3):\n",
    "    for name in plane:\n",
    "        image_path = baked_path  + name + str(i) + \".png\"\n",
    "        image = Image.open(image_path)\n",
    "        image_data = np.array(image)\n",
    "        print(image_data.shape)\n",
    "        if i == 0:\n",
    "            cropped_image = image.crop((real_bound[0][1] - 1,  real_bound[0][0] - 1, real_bound[1][1] + 1, real_bound[1][0] + 1))\n",
    "        if i == 1:\n",
    "            cropped_image = image.crop((real_bound[0][2] - 1,  real_bound[0][0] - 1, real_bound[1][2] + 1, real_bound[1][0] + 1))\n",
    "        if i == 2:\n",
    "            cropped_image = image.crop((real_bound[0][2] - 1,  real_bound[0][1] - 1, real_bound[1][2] + 1, real_bound[1][1] + 1))\n",
    "        cropped_image_path = out_path + name + str(i) + \".png\"\n",
    "        cropped_image.save(cropped_image_path)\n",
    "        \n",
    "real_bound_float_f = np.zeros((2,3))\n",
    "for i in range(2):\n",
    "    for j in range(3):\n",
    "        if real_bound_float[i][j] < -1.0 or real_bound_float[i][j] > 1.0:\n",
    "            real_bound_float_f[i][j] = 1/(2.0-np.abs(real_bound_float[i][j])) * np.sign(real_bound_float[i][j])\n",
    "        else:\n",
    "            real_bound_float_f[i][j] = real_bound_float[i][j]\n",
    "            \n",
    "real_bound_list = real_bound.tolist()\n",
    "real_bound_float_list = real_bound_float_f.tolist()\n",
    "real_bound_contract = real_bound_float.tolist()\n",
    "\n",
    "# Define the data to be saved in JSON format\n",
    "data_to_save = {\n",
    "    \"real_bound\": real_bound_list,\n",
    "    \"real_bound_float\": real_bound_float_list,\n",
    "    \"real_bound_contract\": real_bound_contract,\n",
    "}\n",
    "json_file_path = \"G:\\\\three-d-map230818\\\\public\\\\merf-qizhong\\\\data\\\\block_1\\\\baked\\\\baked_cut\" + \"\\\\bound_params.json\" # Change this to your desired file path\n",
    "\n",
    "\n",
    "# Write the data to a JSON file\n",
    "with open(json_file_path, 'w') as json_file:\n",
    "    json.dump(data_to_save, json_file, indent=2)\n",
    "    \n",
    "# print(real_bound) \n",
    "# print(real_bound_float)"
   ]
  },
  {
   "cell_type": "code",
   "execution_count": 78,
   "metadata": {},
   "outputs": [
    {
     "name": "stdout",
     "output_type": "stream",
     "text": [
      "[[-1.01285856 -0.5546875  -1.11062907]\n",
      " [ 1.11062907  0.3046875   1.5585997 ]]\n",
      "[[-1.0126953 -0.5546875 -1.0996094]\n",
      " [ 1.0996094  0.3046875  1.3583984]]\n"
     ]
    }
   ],
   "source": [
    "real_bound_float_f = np.zeros((2,3))\n",
    "for i in range(2):\n",
    "    for j in range(3):\n",
    "        if real_bound_float[i][j] < -1.0 or real_bound_float[i][j] > 1.0:\n",
    "            real_bound_float_f[i][j] = 1/(2.0-np.abs(real_bound_float[i][j])) * np.sign(real_bound_float[i][j])\n",
    "        else:\n",
    "            real_bound_float_f[i][j] = real_bound_float[i][j]\n",
    "print(real_bound_float_f)\n",
    "print(real_bound_float)\n"
   ]
  },
  {
   "cell_type": "code",
   "execution_count": 20,
   "metadata": {},
   "outputs": [
    {
     "name": "stderr",
     "output_type": "stream",
     "text": [
      "C:\\Users\\Kevin\\AppData\\Roaming\\Python\\Python38\\site-packages\\PIL\\Image.py:3182: DecompressionBombWarning: Image size (134217728 pixels) exceeds limit of 89478485 pixels, could be decompression bomb DOS attack.\n",
      "  warnings.warn(\n"
     ]
    },
    {
     "name": "stdout",
     "output_type": "stream",
     "text": [
      "[[ 68 187 127]\n",
      " [384 328 428]]\n",
      "[[ 68 187 127]\n",
      " [384 328 428]]\n",
      "[[ 68 187 127]\n",
      " [384 328 428]]\n",
      "[[ 68 187 127]\n",
      " [384 328 428]]\n",
      "[[ 68 187 127]\n",
      " [384 328 428]]\n"
     ]
    }
   ],
   "source": [
    "occ = [\"\\\\occupancy_grid_8.png\",\"\\\\occupancy_grid_16.png\",\"\\\\occupancy_grid_32.png\",\"\\\\occupancy_grid_64.png\",\"\\\\occupancy_grid_128.png\"]\n",
    "occ_idx = [512,256,128,64,32]\n",
    "for i in range(5):\n",
    "    image_path = baked_path  + occ[i]\n",
    "    image = Image.open(image_path)\n",
    "    image_data = np.array(image)\n",
    "    image_data = image_data.reshape(occ_idx[i],occ_idx[i],occ_idx[i],4)\n",
    "    non_zero_coords = np.argwhere(np.all(image_data != 0, axis=3))\n",
    "    # print(non_zero_coords.min(axis=0))\n",
    "    # print(non_zero_coords.max(axis=0))\n",
    "    # print(image_data.shape)\n",
    "    if  occ[i] == \"\\\\occupancy_grid_8.png\":\n",
    "        occ_bound = np.array([non_zero_coords.min(axis=0),non_zero_coords.max(axis=0)])\n",
    "    print(occ_bound)"
   ]
  },
  {
   "cell_type": "code",
   "execution_count": 49,
   "metadata": {},
   "outputs": [
    {
     "name": "stdout",
     "output_type": "stream",
     "text": [
      "(4096, 64, 3)\n"
     ]
    }
   ],
   "source": [
    "image_path = baked_path  + \"\\\\sparse_grid_block_indices.png\"\n",
    "image = Image.open(image_path)\n",
    "image_data = np.array(image)\n",
    "print(image_data.shape)"
   ]
  }
 ],
 "metadata": {
  "kernelspec": {
   "display_name": "Python 3.8.18 ('nerfstudio')",
   "language": "python",
   "name": "python3"
  },
  "language_info": {
   "codemirror_mode": {
    "name": "ipython",
    "version": 3
   },
   "file_extension": ".py",
   "mimetype": "text/x-python",
   "name": "python",
   "nbconvert_exporter": "python",
   "pygments_lexer": "ipython3",
   "version": "3.8.18"
  },
  "orig_nbformat": 4,
  "vscode": {
   "interpreter": {
    "hash": "6168860acacb9c54a118c60f99da254ccd8578f55911d18de27516cb40d23131"
   }
  }
 },
 "nbformat": 4,
 "nbformat_minor": 2
}
